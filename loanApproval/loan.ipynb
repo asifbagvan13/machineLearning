{
  "cells": [
    {
      "cell_type": "code",
      "execution_count": 1,
      "metadata": {
        "id": "n88EVYpmt44C"
      },
      "outputs": [],
      "source": [
        "from sklearn.model_selection import train_test_split\n",
        "from sklearn.linear_model import LinearRegression\n",
        "from sklearn.linear_model import LogisticRegression\n",
        "from sklearn.neighbors import KNeighborsClassifier\n",
        "import pandas as pd\n",
        "import numpy as np\n"
      ]
    },
    {
      "cell_type": "code",
      "execution_count": null,
      "metadata": {},
      "outputs": [],
      "source": []
    },
    {
      "cell_type": "code",
      "execution_count": 2,
      "metadata": {
        "colab": {
          "base_uri": "https://localhost:8080/",
          "height": 530
        },
        "id": "RJMfK-Ngt9d4",
        "outputId": "a2fedddf-8eec-497d-8a89-d6fe356c0c10"
      },
      "outputs": [
        {
          "data": {
            "text/html": [
              "<div>\n",
              "<style scoped>\n",
              "    .dataframe tbody tr th:only-of-type {\n",
              "        vertical-align: middle;\n",
              "    }\n",
              "\n",
              "    .dataframe tbody tr th {\n",
              "        vertical-align: top;\n",
              "    }\n",
              "\n",
              "    .dataframe thead th {\n",
              "        text-align: right;\n",
              "    }\n",
              "</style>\n",
              "<table border=\"1\" class=\"dataframe\">\n",
              "  <thead>\n",
              "    <tr style=\"text-align: right;\">\n",
              "      <th></th>\n",
              "      <th>no_of_dependents</th>\n",
              "      <th>education</th>\n",
              "      <th>self_employed</th>\n",
              "      <th>income_annum</th>\n",
              "      <th>loan_amount</th>\n",
              "      <th>loan_term</th>\n",
              "      <th>cibil_score</th>\n",
              "      <th>residential_assets_value</th>\n",
              "      <th>commercial_assets_value</th>\n",
              "      <th>luxury_assets_value</th>\n",
              "      <th>bank_asset_value</th>\n",
              "      <th>loan_status</th>\n",
              "    </tr>\n",
              "  </thead>\n",
              "  <tbody>\n",
              "    <tr>\n",
              "      <th>0</th>\n",
              "      <td>2</td>\n",
              "      <td>Graduate</td>\n",
              "      <td>No</td>\n",
              "      <td>9600000</td>\n",
              "      <td>29900000</td>\n",
              "      <td>12</td>\n",
              "      <td>778</td>\n",
              "      <td>2400000</td>\n",
              "      <td>17600000</td>\n",
              "      <td>22700000</td>\n",
              "      <td>8000000</td>\n",
              "      <td>Approved</td>\n",
              "    </tr>\n",
              "    <tr>\n",
              "      <th>1</th>\n",
              "      <td>0</td>\n",
              "      <td>Not Graduate</td>\n",
              "      <td>Yes</td>\n",
              "      <td>4100000</td>\n",
              "      <td>12200000</td>\n",
              "      <td>8</td>\n",
              "      <td>417</td>\n",
              "      <td>2700000</td>\n",
              "      <td>2200000</td>\n",
              "      <td>8800000</td>\n",
              "      <td>3300000</td>\n",
              "      <td>Rejected</td>\n",
              "    </tr>\n",
              "    <tr>\n",
              "      <th>2</th>\n",
              "      <td>3</td>\n",
              "      <td>Graduate</td>\n",
              "      <td>No</td>\n",
              "      <td>9100000</td>\n",
              "      <td>29700000</td>\n",
              "      <td>20</td>\n",
              "      <td>506</td>\n",
              "      <td>7100000</td>\n",
              "      <td>4500000</td>\n",
              "      <td>33300000</td>\n",
              "      <td>12800000</td>\n",
              "      <td>Rejected</td>\n",
              "    </tr>\n",
              "    <tr>\n",
              "      <th>3</th>\n",
              "      <td>3</td>\n",
              "      <td>Graduate</td>\n",
              "      <td>No</td>\n",
              "      <td>8200000</td>\n",
              "      <td>30700000</td>\n",
              "      <td>8</td>\n",
              "      <td>467</td>\n",
              "      <td>18200000</td>\n",
              "      <td>3300000</td>\n",
              "      <td>23300000</td>\n",
              "      <td>7900000</td>\n",
              "      <td>Rejected</td>\n",
              "    </tr>\n",
              "    <tr>\n",
              "      <th>4</th>\n",
              "      <td>5</td>\n",
              "      <td>Not Graduate</td>\n",
              "      <td>Yes</td>\n",
              "      <td>9800000</td>\n",
              "      <td>24200000</td>\n",
              "      <td>20</td>\n",
              "      <td>382</td>\n",
              "      <td>12400000</td>\n",
              "      <td>8200000</td>\n",
              "      <td>29400000</td>\n",
              "      <td>5000000</td>\n",
              "      <td>Rejected</td>\n",
              "    </tr>\n",
              "    <tr>\n",
              "      <th>...</th>\n",
              "      <td>...</td>\n",
              "      <td>...</td>\n",
              "      <td>...</td>\n",
              "      <td>...</td>\n",
              "      <td>...</td>\n",
              "      <td>...</td>\n",
              "      <td>...</td>\n",
              "      <td>...</td>\n",
              "      <td>...</td>\n",
              "      <td>...</td>\n",
              "      <td>...</td>\n",
              "      <td>...</td>\n",
              "    </tr>\n",
              "    <tr>\n",
              "      <th>4264</th>\n",
              "      <td>5</td>\n",
              "      <td>Graduate</td>\n",
              "      <td>Yes</td>\n",
              "      <td>1000000</td>\n",
              "      <td>2300000</td>\n",
              "      <td>12</td>\n",
              "      <td>317</td>\n",
              "      <td>2800000</td>\n",
              "      <td>500000</td>\n",
              "      <td>3300000</td>\n",
              "      <td>800000</td>\n",
              "      <td>Rejected</td>\n",
              "    </tr>\n",
              "    <tr>\n",
              "      <th>4265</th>\n",
              "      <td>0</td>\n",
              "      <td>Not Graduate</td>\n",
              "      <td>Yes</td>\n",
              "      <td>3300000</td>\n",
              "      <td>11300000</td>\n",
              "      <td>20</td>\n",
              "      <td>559</td>\n",
              "      <td>4200000</td>\n",
              "      <td>2900000</td>\n",
              "      <td>11000000</td>\n",
              "      <td>1900000</td>\n",
              "      <td>Approved</td>\n",
              "    </tr>\n",
              "    <tr>\n",
              "      <th>4266</th>\n",
              "      <td>2</td>\n",
              "      <td>Not Graduate</td>\n",
              "      <td>No</td>\n",
              "      <td>6500000</td>\n",
              "      <td>23900000</td>\n",
              "      <td>18</td>\n",
              "      <td>457</td>\n",
              "      <td>1200000</td>\n",
              "      <td>12400000</td>\n",
              "      <td>18100000</td>\n",
              "      <td>7300000</td>\n",
              "      <td>Rejected</td>\n",
              "    </tr>\n",
              "    <tr>\n",
              "      <th>4267</th>\n",
              "      <td>1</td>\n",
              "      <td>Not Graduate</td>\n",
              "      <td>No</td>\n",
              "      <td>4100000</td>\n",
              "      <td>12800000</td>\n",
              "      <td>8</td>\n",
              "      <td>780</td>\n",
              "      <td>8200000</td>\n",
              "      <td>700000</td>\n",
              "      <td>14100000</td>\n",
              "      <td>5800000</td>\n",
              "      <td>Approved</td>\n",
              "    </tr>\n",
              "    <tr>\n",
              "      <th>4268</th>\n",
              "      <td>1</td>\n",
              "      <td>Graduate</td>\n",
              "      <td>No</td>\n",
              "      <td>9200000</td>\n",
              "      <td>29700000</td>\n",
              "      <td>10</td>\n",
              "      <td>607</td>\n",
              "      <td>17800000</td>\n",
              "      <td>11800000</td>\n",
              "      <td>35700000</td>\n",
              "      <td>12000000</td>\n",
              "      <td>Approved</td>\n",
              "    </tr>\n",
              "  </tbody>\n",
              "</table>\n",
              "<p>4269 rows × 12 columns</p>\n",
              "</div>"
            ],
            "text/plain": [
              "      no_of_dependents      education self_employed  income_annum  \\\n",
              "0                    2       Graduate            No       9600000   \n",
              "1                    0   Not Graduate           Yes       4100000   \n",
              "2                    3       Graduate            No       9100000   \n",
              "3                    3       Graduate            No       8200000   \n",
              "4                    5   Not Graduate           Yes       9800000   \n",
              "...                ...            ...           ...           ...   \n",
              "4264                 5       Graduate           Yes       1000000   \n",
              "4265                 0   Not Graduate           Yes       3300000   \n",
              "4266                 2   Not Graduate            No       6500000   \n",
              "4267                 1   Not Graduate            No       4100000   \n",
              "4268                 1       Graduate            No       9200000   \n",
              "\n",
              "      loan_amount  loan_term  cibil_score  residential_assets_value  \\\n",
              "0        29900000         12          778                   2400000   \n",
              "1        12200000          8          417                   2700000   \n",
              "2        29700000         20          506                   7100000   \n",
              "3        30700000          8          467                  18200000   \n",
              "4        24200000         20          382                  12400000   \n",
              "...           ...        ...          ...                       ...   \n",
              "4264      2300000         12          317                   2800000   \n",
              "4265     11300000         20          559                   4200000   \n",
              "4266     23900000         18          457                   1200000   \n",
              "4267     12800000          8          780                   8200000   \n",
              "4268     29700000         10          607                  17800000   \n",
              "\n",
              "      commercial_assets_value  luxury_assets_value  bank_asset_value  \\\n",
              "0                    17600000             22700000           8000000   \n",
              "1                     2200000              8800000           3300000   \n",
              "2                     4500000             33300000          12800000   \n",
              "3                     3300000             23300000           7900000   \n",
              "4                     8200000             29400000           5000000   \n",
              "...                       ...                  ...               ...   \n",
              "4264                   500000              3300000            800000   \n",
              "4265                  2900000             11000000           1900000   \n",
              "4266                 12400000             18100000           7300000   \n",
              "4267                   700000             14100000           5800000   \n",
              "4268                 11800000             35700000          12000000   \n",
              "\n",
              "     loan_status  \n",
              "0       Approved  \n",
              "1       Rejected  \n",
              "2       Rejected  \n",
              "3       Rejected  \n",
              "4       Rejected  \n",
              "...          ...  \n",
              "4264    Rejected  \n",
              "4265    Approved  \n",
              "4266    Rejected  \n",
              "4267    Approved  \n",
              "4268    Approved  \n",
              "\n",
              "[4269 rows x 12 columns]"
            ]
          },
          "execution_count": 2,
          "metadata": {},
          "output_type": "execute_result"
        }
      ],
      "source": [
        "df = pd.DataFrame(pd.read_csv('./loan_approval_dataset.csv'))\n",
        "df.head()\n",
        "df.drop('loan_id', axis=1)\n"
      ]
    },
    {
      "cell_type": "code",
      "execution_count": null,
      "metadata": {
        "colab": {
          "base_uri": "https://localhost:8080/"
        },
        "id": "4cOoWc9l6NwS",
        "outputId": "39023849-2eed-4c64-d57b-392a241c723c"
      },
      "outputs": [],
      "source": [
        "df[' education'] = df[' education'].replace({' Graduate':1,' Not Graduate':0})\n",
        "df[' self_employed'] = df[' self_employed'].replace({' No':0,' Yes':1})\n",
        "df[' loan_status'] = df[' loan_status'].replace({' Approved':1, ' Rejected':0})"
      ]
    },
    {
      "cell_type": "code",
      "execution_count": null,
      "metadata": {
        "id": "RuygbK4sur1z"
      },
      "outputs": [],
      "source": [
        "df.columns\n",
        "\n",
        "features1 = [' no_of_dependents', ' education', ' self_employed',\n",
        "       ' income_annum', ' loan_amount', ' loan_term', ' cibil_score',\n",
        "       ' residential_assets_value', ' commercial_assets_value',\n",
        "       ' luxury_assets_value', ' bank_asset_value']\n",
        "\n",
        "target = [' loan_status']"
      ]
    },
    {
      "cell_type": "code",
      "execution_count": null,
      "metadata": {
        "id": "Spg8s8Pj4rjv"
      },
      "outputs": [],
      "source": [
        "x1 = df[features1]\n",
        "y1 = df[target]"
      ]
    },
    {
      "cell_type": "markdown",
      "metadata": {
        "id": "kO5bdPAOvV-H"
      },
      "source": [
        "x1= df[features1].copy()\n",
        "y1 = df[target].copy()\n",
        "\n",
        "x_train, x_test, y_train, y_test = train_test_split(x1, y1, test_size=0.2, random_state=42)\n",
        "\n",
        "x_train[' education'] = x_train[' education'].replace({' Graduate':1,' Not Graduate':0}).astype(int)\n",
        "x_train[' self_employed'] = x_train[' self_employed'].replace({' No':0,' Yes':1}).astype(int)\n",
        "\n",
        "x_test[' education'] = x_test[' education'].replace({' Graduate':1,' Not Graduate':0}).astype(int)\n",
        "x_test[' self_employed'] = x_test[' self_employed'].replace({' No':0,' Yes':1}).astype(int)\n",
        "\n",
        "y_train[' loan_status'] = y_train[' loan_status'].replace({' Approved':1, ' Rejected':0}).astype(int)\n",
        "y_test[' loan_status'] = y_test[' loan_status'].replace({' Approved':1, ' Rejected':0}).astype(int)"
      ]
    },
    {
      "cell_type": "code",
      "execution_count": null,
      "metadata": {
        "id": "MiJ_3CiFvcOA"
      },
      "outputs": [],
      "source": [
        "x_train, x_test, y_train, y_test = train_test_split(x1, y1, test_size=0.2, random_state=42)"
      ]
    },
    {
      "cell_type": "code",
      "execution_count": null,
      "metadata": {
        "colab": {
          "base_uri": "https://localhost:8080/"
        },
        "id": "ec6d4HXvvjYm",
        "outputId": "1c5d0372-a3bf-4db4-e380-614d3d5c1bdc"
      },
      "outputs": [],
      "source": [
        "model = KNeighborsClassifier(n_neighbors=11)\n",
        "model.fit(x_train, y_train)\n",
        "y_pred = model.predict(x_test)"
      ]
    },
    {
      "cell_type": "code",
      "execution_count": null,
      "metadata": {
        "colab": {
          "base_uri": "https://localhost:8080/"
        },
        "id": "j2EvxvWxv5Pa",
        "outputId": "3a77928e-c3b7-4d45-b53c-bfd703cd48df"
      },
      "outputs": [],
      "source": [
        "score = model.score(x_test, y_test)\n",
        "print(\"Model Score:\", score)"
      ]
    },
    {
      "cell_type": "code",
      "execution_count": null,
      "metadata": {
        "id": "oZ7IQ3mO5JD5"
      },
      "outputs": [],
      "source": [
        "new_loan = pd.DataFrame({\n",
        "    ' no_of_dependents': [2],\n",
        "    ' education': [1],\n",
        "    ' self_employed': [0],\n",
        "    ' income_annum': [5000000],\n",
        "    ' loan_amount': [10000],\n",
        "    ' loan_term': [10],\n",
        "    ' cibil_score': [700],\n",
        "    ' residential_assets_value': [1000000],\n",
        "    ' commercial_assets_value': [500000],\n",
        "    ' luxury_assets_value': [2000000],\n",
        "    ' bank_asset_value': [1000000]\n",
        "})"
      ]
    },
    {
      "cell_type": "code",
      "execution_count": null,
      "metadata": {
        "colab": {
          "base_uri": "https://localhost:8080/"
        },
        "id": "QT1lak30w-La",
        "outputId": "5853a05c-3ea5-40ba-c2be-93513f0ff56a"
      },
      "outputs": [],
      "source": [
        "approve_or_not = model.predict(new_loan)\n",
        "print(\"Predicted approve orr not:\", approve_or_not)\n",
        "\n",
        "if approve_or_not == 1:\n",
        "  print(\"Loan Approved\")\n",
        "else:\n",
        "  print(\"Loan Rejected\")"
      ]
    }
  ],
  "metadata": {
    "colab": {
      "provenance": []
    },
    "kernelspec": {
      "display_name": "loanApproval",
      "language": "python",
      "name": "python3"
    },
    "language_info": {
      "codemirror_mode": {
        "name": "ipython",
        "version": 3
      },
      "file_extension": ".py",
      "mimetype": "text/x-python",
      "name": "python",
      "nbconvert_exporter": "python",
      "pygments_lexer": "ipython3",
      "version": "3.13.5"
    }
  },
  "nbformat": 4,
  "nbformat_minor": 0
}
